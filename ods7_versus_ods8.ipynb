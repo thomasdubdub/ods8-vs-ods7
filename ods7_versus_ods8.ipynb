{
 "cells": [
  {
   "cell_type": "code",
   "execution_count": 1,
   "metadata": {},
   "outputs": [],
   "source": [
    "%load_ext lab_black"
   ]
  },
  {
   "cell_type": "markdown",
   "metadata": {},
   "source": [
    "# ODS8 versus ODS7 - Python basic functions to analyze new Scrabble words"
   ]
  },
  {
   "cell_type": "markdown",
   "metadata": {},
   "source": [
    "#### *If you do not have lists of words, you can generate txt files by web scraping, see for example https://blog.site2wouf.fr/2018/12/un-lexique-genre-ods7-en-txt.html*"
   ]
  },
  {
   "cell_type": "code",
   "execution_count": 2,
   "metadata": {},
   "outputs": [],
   "source": [
    "from dictionary import Dictionary"
   ]
  },
  {
   "cell_type": "code",
   "execution_count": 3,
   "metadata": {},
   "outputs": [],
   "source": [
    "ods7 = Dictionary(\"ods7.txt\")\n",
    "ods8 = Dictionary(\"ods8.txt\")"
   ]
  },
  {
   "cell_type": "markdown",
   "metadata": {},
   "source": [
    "#### <br> This notebook focuses on differences between two dictionaries. If you want to know more about how to use a dictionary (ex: list of 3 letters-words with j in ODS8), please refer to https://github.com/thomasdubdub/scrabble-assistant"
   ]
  },
  {
   "cell_type": "code",
   "execution_count": 4,
   "metadata": {},
   "outputs": [
    {
     "data": {
      "text/plain": [
       "['dej', 'jab', 'jam', 'jan', 'jar', 'jas', 'jet', 'jeu', 'job', 'jus']"
      ]
     },
     "execution_count": 4,
     "metadata": {},
     "output_type": "execute_result"
    }
   ],
   "source": [
    "ods8.wordlist(3, \"j\")"
   ]
  },
  {
   "cell_type": "markdown",
   "metadata": {},
   "source": [
    "#### <br> Total number of new entries (not new words as you can find verbs)"
   ]
  },
  {
   "cell_type": "code",
   "execution_count": 5,
   "metadata": {},
   "outputs": [
    {
     "name": "stdout",
     "output_type": "stream",
     "text": [
      "New entries in ODS8: 8927\n"
     ]
    }
   ],
   "source": [
    "print(\"New entries in ODS8:\", len(ods8.l) - len(ods7.l))"
   ]
  },
  {
   "cell_type": "markdown",
   "metadata": {},
   "source": [
    "#### <br> Words removed from ODS7 to ODS8 "
   ]
  },
  {
   "cell_type": "code",
   "execution_count": 6,
   "metadata": {},
   "outputs": [
    {
     "data": {
      "text/plain": [
       "['chinetoque', 'chinetoques', 'negro', 'negros', 'sily', 'silys']"
      ]
     },
     "execution_count": 6,
     "metadata": {},
     "output_type": "execute_result"
    }
   ],
   "source": [
    "ods8.diff_suppr(ods7)"
   ]
  },
  {
   "cell_type": "markdown",
   "metadata": {},
   "source": [
    "#### <br> New 3-letters words in ODS8 (you already know the only 2-letters word of course)"
   ]
  },
  {
   "cell_type": "code",
   "execution_count": 7,
   "metadata": {},
   "outputs": [
    {
     "name": "stdout",
     "output_type": "stream",
     "text": [
      "['app', 'arf', 'bim', 'dej', 'del', 'dip', 'fix', 'ghi', 'mag', 'qis', 'rib', 'tef']\n"
     ]
    }
   ],
   "source": [
    "print(ods8.diff_add(ods7, 3))"
   ]
  },
  {
   "cell_type": "markdown",
   "metadata": {},
   "source": [
    "#### <br> New words with n letters and including a specific letter. Ex: new 4-letters words with k"
   ]
  },
  {
   "cell_type": "code",
   "execution_count": 8,
   "metadata": {},
   "outputs": [
    {
     "data": {
      "text/plain": [
       "['fake', 'lika', 'like', 'mako', 'mook', 'pika', 'rokh', 'ruck']"
      ]
     },
     "execution_count": 8,
     "metadata": {},
     "output_type": "execute_result"
    }
   ],
   "source": [
    "ods8.diff_add(ods7, 4, \"k\")"
   ]
  },
  {
   "cell_type": "code",
   "execution_count": 9,
   "metadata": {},
   "outputs": [
    {
     "name": "stdout",
     "output_type": "stream",
     "text": [
      "Number of new 4-letters words with  j :  2\n",
      "Number of new 4-letters words with  q :  1\n",
      "Number of new 4-letters words with  w :  2\n",
      "Number of new 4-letters words with  x :  0\n",
      "Number of new 4-letters words with  y :  0\n",
      "Number of new 4-letters words with  z :  0\n",
      "All 4-letters words with jqwxyz:  ['dejs', 'mojo', 'waqf', 'swag', 'waqf']\n"
     ]
    }
   ],
   "source": [
    "wds = []\n",
    "for l in \"jqwxyz\":\n",
    "    wds.extend(ods8.diff_add(ods7, 4, l))\n",
    "    print(\n",
    "        \"Number of new 4-letters words with \", l, \": \", len(ods8.diff_add(ods7, 4, l))\n",
    "    )\n",
    "print(\"All 4-letters words with jqwxyz: \", wds)"
   ]
  },
  {
   "cell_type": "markdown",
   "metadata": {},
   "source": [
    "#### <br> All new words with a several specific letters. Ex: all new words in ODS8 with w and z"
   ]
  },
  {
   "cell_type": "code",
   "execution_count": 10,
   "metadata": {},
   "outputs": [
    {
     "data": {
      "text/plain": [
       "['retweetassiez',\n",
       " 'retweeterez',\n",
       " 'retweeteriez',\n",
       " 'retweetez',\n",
       " 'retweetiez',\n",
       " 'retwittassiez',\n",
       " 'retwitterez',\n",
       " 'retwitteriez',\n",
       " 'retwittez',\n",
       " 'retwittiez',\n",
       " 'showbizness']"
      ]
     },
     "execution_count": 10,
     "metadata": {},
     "output_type": "execute_result"
    }
   ],
   "source": [
    "ods8.diff_add(ods7, 0, \"wz\")"
   ]
  }
 ],
 "metadata": {
  "kernelspec": {
   "display_name": "Python 3",
   "language": "python",
   "name": "python3"
  },
  "language_info": {
   "codemirror_mode": {
    "name": "ipython",
    "version": 3
   },
   "file_extension": ".py",
   "mimetype": "text/x-python",
   "name": "python",
   "nbconvert_exporter": "python",
   "pygments_lexer": "ipython3",
   "version": "3.7.4"
  }
 },
 "nbformat": 4,
 "nbformat_minor": 4
}
